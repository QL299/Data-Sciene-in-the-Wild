{
 "cells": [
  {
   "cell_type": "code",
   "execution_count": 1,
   "metadata": {},
   "outputs": [],
   "source": [
    "import pickle"
   ]
  },
  {
   "cell_type": "code",
   "execution_count": 2,
   "metadata": {},
   "outputs": [],
   "source": [
    "individual = pickle.load(open('Extrasensory_individual_data.p','rb'))\n",
    "sensor = pickle.load(open('Extrasensory_sensor_data.p','rb'))"
   ]
  },
  {
   "cell_type": "code",
   "execution_count": 3,
   "metadata": {},
   "outputs": [
    {
     "name": "stdout",
     "output_type": "stream",
     "text": [
      "                                   uuid  age  gender   system  hours_in_study  \\\n",
      "0  3600D531-0C55-44A7-AE95-A7A38519464E   24    male  Android              86   \n",
      "1  59EEFAE0-DEB0-4FFF-9250-54D2A03D0CF2   31  female  Android             125   \n",
      "2  CF722AA9-2533-4E51-9FEB-9EAC84EE9AAC   37    male      iOS              60   \n",
      "3  5152A2DF-FAF3-4BA8-9CA9-E66B32671A53   22    male      iOS             110   \n",
      "4  136562B6-95B2-483D-88DC-065F28409FD2   19    male  Android             103   \n",
      "\n",
      "   perceived_average_screen_time  actual_average_screen_time  \n",
      "0                            4.3                        5.18  \n",
      "1                            4.2                        2.31  \n",
      "2                            3.9                       -1.00  \n",
      "3                           -1.0                        4.75  \n",
      "4                            1.1                        1.55  \n"
     ]
    }
   ],
   "source": [
    "print(individual.head())"
   ]
  },
  {
   "cell_type": "code",
   "execution_count": 4,
   "metadata": {},
   "outputs": [],
   "source": [
    "#print(sensor)"
   ]
  },
  {
   "cell_type": "code",
   "execution_count": null,
   "metadata": {},
   "outputs": [],
   "source": [
    "#a\n",
    "\n"
   ]
  }
 ],
 "metadata": {
  "kernelspec": {
   "display_name": "Python 3",
   "language": "python",
   "name": "python3"
  },
  "language_info": {
   "codemirror_mode": {
    "name": "ipython",
    "version": 3
   },
   "file_extension": ".py",
   "mimetype": "text/x-python",
   "name": "python",
   "nbconvert_exporter": "python",
   "pygments_lexer": "ipython3",
   "version": "3.7.4"
  }
 },
 "nbformat": 4,
 "nbformat_minor": 2
}
